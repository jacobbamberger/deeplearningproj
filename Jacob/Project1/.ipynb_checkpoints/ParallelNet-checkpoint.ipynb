{
 "cells": [
  {
   "cell_type": "code",
   "execution_count": 1,
   "id": "a17280ee",
   "metadata": {},
   "outputs": [],
   "source": [
    "import prologue\n",
    "import torch\n",
    "import time\n",
    "\n",
    "from ParallelNet import ParallelNet"
   ]
  },
  {
   "cell_type": "code",
   "execution_count": 2,
   "id": "d0149c69",
   "metadata": {},
   "outputs": [],
   "source": [
    "# Load and preprocess data\n",
    "nb = 1000 # Number of test and train samples is 1000 as stated in the exercise\n",
    "mini_batch_size = 50\n",
    "nb_runs = 25\n",
    "\n",
    "train_input, train_target, train_classes, test_input, test_target, test_classes =\\\n",
    "    prologue.generate_pair_sets(nb)"
   ]
  },
  {
   "cell_type": "code",
   "execution_count": 3,
   "id": "9a8e93cf",
   "metadata": {},
   "outputs": [
    {
     "name": "stdout",
     "output_type": "stream",
     "text": [
      "ya\n"
     ]
    }
   ],
   "source": [
    "# normalize input data\n",
    "mu, std = train_input.mean(), train_input.std()\n",
    "train_input.sub_(mu).div_(std)\n",
    "test_input.sub_(mu).div_(std)\n",
    "\n",
    "print(\"ya\")"
   ]
  },
  {
   "cell_type": "code",
   "execution_count": 4,
   "id": "0aaef58f",
   "metadata": {},
   "outputs": [
    {
     "name": "stdout",
     "output_type": "stream",
     "text": [
      "Training...\n",
      "Printing acc loss every 5 epochs...\n",
      "Accumulated loss at epoch:  0  is:  32.13371002674103\n",
      "Accumulated loss at epoch:  5  is:  27.03188729286194\n",
      "Accumulated loss at epoch:  10  is:  20.969712138175964\n",
      "Accumulated loss at epoch:  15  is:  17.966580629348755\n",
      "Accumulated loss at epoch:  20  is:  14.491413176059723\n",
      "Training accuracy of 80.70%\n",
      "Now testing...\n",
      "Testing accuracy of 77.10%\n",
      "10-fold accuracy mean on test_set is 77.10% with 0.033897 standard deviation\n"
     ]
    }
   ],
   "source": [
    "#initialize model, then train and test altogether\n",
    "prll_net = ParallelNet()\n",
    "prll_net.train_and_test(train_input, train_target, \n",
    "                     test_input, test_target, \n",
    "                     train_classes=train_classes, test_classes=test_classes)"
   ]
  },
  {
   "cell_type": "code",
   "execution_count": null,
   "id": "6f301f96",
   "metadata": {},
   "outputs": [],
   "source": []
  }
 ],
 "metadata": {
  "kernelspec": {
   "display_name": "Python 3",
   "language": "python",
   "name": "python3"
  },
  "language_info": {
   "codemirror_mode": {
    "name": "ipython",
    "version": 3
   },
   "file_extension": ".py",
   "mimetype": "text/x-python",
   "name": "python",
   "nbconvert_exporter": "python",
   "pygments_lexer": "ipython3",
   "version": "3.9.4"
  }
 },
 "nbformat": 4,
 "nbformat_minor": 5
}

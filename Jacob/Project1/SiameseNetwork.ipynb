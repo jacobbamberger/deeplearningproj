{
 "cells": [
  {
   "cell_type": "code",
   "execution_count": 1,
   "id": "f61c5482",
   "metadata": {},
   "outputs": [],
   "source": [
    "import prologue\n",
    "import matplotlib.pyplot as plt\n",
    "from torch import nn\n",
    "from helper import *\n",
    "%matplotlib inline"
   ]
  },
  {
   "cell_type": "code",
   "execution_count": 2,
   "id": "b489959b",
   "metadata": {},
   "outputs": [
    {
     "name": "stdout",
     "output_type": "stream",
     "text": [
      "torch.Size([1, 2, 14, 14])\n"
     ]
    },
    {
     "data": {
      "image/png": "[encoded data removed]",
      "text/plain": [
       "<Figure size 432x288 with 1 Axes>"
      ]
     },
     "metadata": {
      "needs_background": "light"
     },
     "output_type": "display_data"
    },
    {
     "data": {
      "image/png": "[encoded data removed]",
      "text/plain": [
       "<Figure size 432x288 with 1 Axes>"
      ]
     },
     "metadata": {
      "needs_background": "light"
     },
     "output_type": "display_data"
    },
    {
     "name": "stdout",
     "output_type": "stream",
     "text": [
      "tensor([9, 3])\n"
     ]
    }
   ],
   "source": [
    "#just plotting a pair of digits\n",
    "train_img, train_target, train_classes, test_img, test_target, test_classes = prologue.generate_pair_sets(1)\n",
    "# plot the first training sample pair\n",
    "print(train_img.shape)\n",
    "fig = plt.figure\n",
    "plt.imshow(train_img[0, 0], cmap='gray')\n",
    "plt.show() \n",
    "plt.imshow(train_img[0, 1], cmap='gray')\n",
    "plt.show() \n",
    "print(train_classes[0])"
   ]
  },
  {
   "cell_type": "markdown",
   "id": "1d7a9013",
   "metadata": {},
   "source": [
    "# Siamese Network"
   ]
  },
  {
   "cell_type": "code",
   "execution_count": 3,
   "id": "ee276e35",
   "metadata": {},
   "outputs": [
    {
     "name": "stdout",
     "output_type": "stream",
     "text": [
      "0 3.54768642783165\n",
      "10 1.63289625197649\n",
      "20 0.7268567895516753\n"
     ]
    }
   ],
   "source": [
    "#We now train and evaluate the Siamese Network\n",
    "from SiameseNet import *\n",
    "\n",
    "\n",
    "#generate the training and test data:\n",
    "train_input, train_target, train_classes, test_input, test_target, test_classes = prologue.generate_pair_sets(1000)\n",
    "\n",
    "#center the training, and testing data:\n",
    "mu, std = train_input.mean(), train_input.std()\n",
    "train_input.sub_(mu).div_(std)\n",
    "\n",
    "mu, std = test_input.mean(), test_input.std()\n",
    "test_input.sub_(mu).div_(std)\n",
    "\n"
   ]
  },
  {
   "cell_type": "code",
   "execution_count": 4,
   "id": "b00daf9a",
   "metadata": {},
   "outputs": [
    {
     "name": "stdout",
     "output_type": "stream",
     "text": [
      "Printing the losses every 10 epochs\n",
      "0 3.5786923691630363\n",
      "10 1.5978130865842104\n",
      "20 0.6064665578305721\n"
     ]
    }
   ],
   "source": [
    "#Initialize and Train the Siamese Network\n",
    "Net = SiameseNet()\n",
    "\n",
    "print('Printing the losses every 10 epochs:')\n",
    "Net.train_model(train_input, \n",
    "                big_transform_to_one_hot(train_classes), \n",
    "                mini_batch_size=25, nb_epochs=25,\n",
    "               criterion=nn.MSELoss())"
   ]
  },
  {
   "cell_type": "code",
   "execution_count": 6,
   "id": "e23b2b3b",
   "metadata": {},
   "outputs": [
    {
     "name": "stdout",
     "output_type": "stream",
     "text": [
      "Train error: 9.2\n",
      "Test error: 17.3\n"
     ]
    }
   ],
   "source": [
    "#Evaluate the Network:\n",
    "print(\"Train error:\", Net.compute_nb_errors(train_input, big_transform_to_one_hot(train_classes), 20)/10)\n",
    "#first_model(first_input[0:1])\n",
    "print(\"Test error:\", Net.compute_nb_errors(test_input, big_transform_to_one_hot(test_classes), 20)/10)\n",
    "\n"
   ]
  },
  {
   "cell_type": "code",
   "execution_count": null,
   "id": "c6298340",
   "metadata": {},
   "outputs": [],
   "source": []
  }
 ],
 "metadata": {
  "kernelspec": {
   "display_name": "Python 3",
   "language": "python",
   "name": "python3"
  },
  "language_info": {
   "codemirror_mode": {
    "name": "ipython",
    "version": 3
   },
   "file_extension": ".py",
   "mimetype": "text/x-python",
   "name": "python",
   "nbconvert_exporter": "python",
   "pygments_lexer": "ipython3",
   "version": "3.9.4"
  }
 },
 "nbformat": 4,
 "nbformat_minor": 5
}

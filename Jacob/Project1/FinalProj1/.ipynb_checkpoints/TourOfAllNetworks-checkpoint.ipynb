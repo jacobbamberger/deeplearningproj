{
 "cells": [
  {
   "cell_type": "code",
   "execution_count": 1,
   "id": "c5db6117",
   "metadata": {},
   "outputs": [],
   "source": [
    "import dlc_practical_prologue as prologue\n",
    "from torch import nn\n",
    "from AuxNet import AuxNet\n",
    "from ConvNet import ConvNet\n",
    "from ParallelNet import ParallelNet\n",
    "from SiameseNet import SiameseNet"
   ]
  },
  {
   "cell_type": "markdown",
   "id": "f0bf3e37",
   "metadata": {},
   "source": [
    "In this Notebook we train and test all of our network on the same data using a central train/testing pipeline coded in the BaseNet.py file"
   ]
  },
  {
   "cell_type": "code",
   "execution_count": 2,
   "id": "4bd9e9e5",
   "metadata": {},
   "outputs": [],
   "source": [
    "# Load and preprocess data\n",
    "nb = 1000 # Number of test and train samples is 1000 as stated in the exercise\n",
    "mini_batch_size = 50\n",
    "nb_runs = 25\n",
    "\n",
    "train_input, train_target, train_classes, test_input, test_target, test_classes =\\\n",
    "    prologue.generate_pair_sets(nb)"
   ]
  },
  {
   "cell_type": "code",
   "execution_count": 3,
   "id": "088b9960",
   "metadata": {},
   "outputs": [
    {
     "name": "stdout",
     "output_type": "stream",
     "text": [
      "done\n"
     ]
    }
   ],
   "source": [
    "# normalize input data\n",
    "mu, std = train_input.mean(), train_input.std()\n",
    "train_input.sub_(mu).div_(std)\n",
    "test_input.sub_(mu).div_(std)\n",
    "\n",
    "print(\"done\")"
   ]
  },
  {
   "cell_type": "code",
   "execution_count": 4,
   "id": "0b2af97a",
   "metadata": {},
   "outputs": [
    {
     "name": "stdout",
     "output_type": "stream",
     "text": [
      "Trainin model ConvNet...\n",
      "Printing acc loss every 5 epochs...\n",
      "Accumulated loss at epoch:  0  is:  13.22212266921997\n",
      "Accumulated loss at epoch:  5  is:  7.265351206064224\n",
      "Accumulated loss at epoch:  10  is:  4.901530861854553\n",
      "Accumulated loss at epoch:  15  is:  0.883493828587234\n",
      "Accumulated loss at epoch:  20  is:  0.0723899258300662\n",
      "Training accuracy of 100.00%\n",
      "Now testing...\n",
      "Testing accuracy of 82.70%\n",
      "10-fold accuracy mean on test_set is 82.70% with 0.024515 standard deviation\n"
     ]
    }
   ],
   "source": [
    "#ConvNet\n",
    "conv_net = ConvNet()\n",
    "conv_net.train_and_test(train_input, train_target, \n",
    "                     test_input, test_target, \n",
    "                     train_classes=None, test_classes=None) \n",
    "#Note that the _classes are none, because the auxiliary loss is not used"
   ]
  },
  {
   "cell_type": "code",
   "execution_count": 5,
   "id": "b772710e",
   "metadata": {},
   "outputs": [
    {
     "name": "stdout",
     "output_type": "stream",
     "text": [
      "Trainin model AuxNet...\n",
      "Printing acc loss every 5 epochs...\n",
      "Accumulated loss at epoch:  0  is:  30.70317041873932\n",
      "Accumulated loss at epoch:  5  is:  13.880098819732666\n",
      "Accumulated loss at epoch:  10  is:  5.08574141561985\n",
      "Accumulated loss at epoch:  15  is:  2.7954862266778946\n",
      "Accumulated loss at epoch:  20  is:  1.7034757733345032\n",
      "Training accuracy of 100.00%\n",
      "Now testing...\n",
      "Testing accuracy of 82.00%\n",
      "10-fold accuracy mean on test_set is 82.00% with 0.040743 standard deviation\n"
     ]
    }
   ],
   "source": [
    "#AuxNet\n",
    "aux_net = AuxNet()\n",
    "aux_net.train_and_test(train_input, train_target, \n",
    "                     test_input, test_target, \n",
    "                     train_classes=train_classes, test_classes=test_classes)"
   ]
  },
  {
   "cell_type": "code",
   "execution_count": 6,
   "id": "67229298",
   "metadata": {},
   "outputs": [
    {
     "name": "stdout",
     "output_type": "stream",
     "text": [
      "Trainin model ParallelNet...\n",
      "Printing acc loss every 5 epochs...\n",
      "Accumulated loss at epoch:  0  is:  32.059685826301575\n",
      "Accumulated loss at epoch:  5  is:  26.62257182598114\n",
      "Accumulated loss at epoch:  10  is:  21.544035851955414\n",
      "Accumulated loss at epoch:  15  is:  16.805379629135132\n",
      "Accumulated loss at epoch:  20  is:  14.257046580314636\n",
      "Training accuracy of 92.20%\n",
      "Now testing...\n",
      "Testing accuracy of 85.40%\n",
      "10-fold accuracy mean on test_set is 85.40% with 0.024166 standard deviation\n"
     ]
    }
   ],
   "source": [
    "#Parallel Network:\n",
    "prll_net = ParallelNet()\n",
    "prll_net.train_and_test(train_input, train_target, \n",
    "                     test_input, test_target, \n",
    "                     train_classes=train_classes, test_classes=test_classes)"
   ]
  },
  {
   "cell_type": "code",
   "execution_count": 7,
   "id": "b1969c8a",
   "metadata": {},
   "outputs": [
    {
     "name": "stdout",
     "output_type": "stream",
     "text": [
      "Trainin model SiameseNet...\n",
      "Printing acc loss every 5 epochs...\n",
      "Accumulated loss at epoch:  0  is:  31.835242748260498\n",
      "Accumulated loss at epoch:  5  is:  14.80417549610138\n",
      "Accumulated loss at epoch:  10  is:  9.69710910320282\n",
      "Accumulated loss at epoch:  15  is:  6.468541517853737\n",
      "Accumulated loss at epoch:  20  is:  3.462669648230076\n",
      "Training accuracy of 99.80%\n",
      "Now testing...\n",
      "Testing accuracy of 91.20%\n",
      "10-fold accuracy mean on test_set is 91.20% with 0.015362 standard deviation\n"
     ]
    }
   ],
   "source": [
    "#Siamese Network:\n",
    "siam_net = SiameseNet()\n",
    "siam_net.train_and_test(train_input, train_target, \n",
    "                     test_input, test_target, \n",
    "                     train_classes=train_classes, test_classes=test_classes)"
   ]
  },
  {
   "cell_type": "code",
   "execution_count": null,
   "id": "f622d960",
   "metadata": {},
   "outputs": [],
   "source": []
  }
 ],
 "metadata": {
  "kernelspec": {
   "display_name": "Python 3",
   "language": "python",
   "name": "python3"
  },
  "language_info": {
   "codemirror_mode": {
    "name": "ipython",
    "version": 3
   },
   "file_extension": ".py",
   "mimetype": "text/x-python",
   "name": "python",
   "nbconvert_exporter": "python",
   "pygments_lexer": "ipython3",
   "version": "3.9.4"
  }
 },
 "nbformat": 4,
 "nbformat_minor": 5
}

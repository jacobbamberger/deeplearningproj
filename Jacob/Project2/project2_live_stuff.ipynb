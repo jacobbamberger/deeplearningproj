{
 "cells": [
  {
   "cell_type": "markdown",
   "id": "ed0b7511",
   "metadata": {},
   "source": [
    "This network is to test code done for Project 2. \n",
    "Go down to the 'full prediction' heading to check out the model in action!"
   ]
  },
  {
   "cell_type": "code",
   "execution_count": 1,
   "id": "c260acfc",
   "metadata": {},
   "outputs": [
    {
     "data": {
      "text/plain": [
       "<torch.autograd.grad_mode.set_grad_enabled at 0x104f21fd0>"
      ]
     },
     "execution_count": 1,
     "metadata": {},
     "output_type": "execute_result"
    }
   ],
   "source": [
    "import torch\n",
    "import math\n",
    "import prologue as prologue\n",
    "import framework\n",
    "\n",
    "\n",
    "torch.set_grad_enabled(False) #By the end we should have this set to False"
   ]
  },
  {
   "cell_type": "code",
   "execution_count": 2,
   "id": "3bd9157a",
   "metadata": {},
   "outputs": [],
   "source": [
    "######################################################################\n",
    "######################### DATA things ################################\n",
    "######################################################################\n",
    "def generate_disc_set(nb): # This can be kept the same\n",
    "    input = torch.empty(nb, 2).uniform_(-1, 1)\n",
    "    target = input.pow(2).sum(1).sub(2 / math.pi).sign().add(1).div(2).long()\n",
    "    return input, target\n",
    "\n",
    "train_input, train_target = generate_disc_set(1000)\n",
    "test_input, test_target = generate_disc_set(1000)\n",
    "\n",
    "# center the data:\n",
    "mean, std = train_input.mean(), train_input.std()\n",
    "\n",
    "train_input.sub_(mean).div_(std)\n",
    "test_input.sub_(mean).div_(std)\n",
    "\n",
    "train_target = train_target.float()\n",
    "test_target = test_target.float()"
   ]
  },
  {
   "cell_type": "code",
   "execution_count": 3,
   "id": "4e70d886",
   "metadata": {},
   "outputs": [],
   "source": [
    "# Network sugested in the miniproj handout:\n",
    "model = framework.Sequential((framework.Linear(2, 25), \n",
    "                              framework.Tanh(), \n",
    "                              framework.Linear(25, 25), \n",
    "                              framework.Tanh(),\n",
    "                              framework.Linear(25, 25), \n",
    "                              framework.Tanh(),\n",
    "                              framework.Linear(25, 1)))\n",
    "                             \n",
    "loss = framework.MSE()"
   ]
  },
  {
   "cell_type": "code",
   "execution_count": 4,
   "id": "b844b141",
   "metadata": {},
   "outputs": [
    {
     "name": "stdout",
     "output_type": "stream",
     "text": [
      "epoch nb:  0 loss:  tensor([2270.3403])\n",
      "epoch nb:  5 loss:  tensor([227.8352])\n",
      "epoch nb:  10 loss:  tensor([167.1329])\n",
      "epoch nb:  15 loss:  tensor([132.4987])\n",
      "epoch nb:  20 loss:  tensor([111.2906])\n",
      "epoch nb:  25 loss:  tensor([95.7027])\n",
      "epoch nb:  30 loss:  tensor([85.4617])\n",
      "epoch nb:  35 loss:  tensor([77.4297])\n",
      "epoch nb:  40 loss:  tensor([71.2052])\n",
      "epoch nb:  45 loss:  tensor([66.4516])\n",
      "epoch nb:  50 loss:  tensor([62.7410])\n",
      "epoch nb:  55 loss:  tensor([59.7449])\n",
      "epoch nb:  60 loss:  tensor([57.2393])\n",
      "epoch nb:  65 loss:  tensor([55.0807])\n",
      "epoch nb:  70 loss:  tensor([53.1791])\n",
      "epoch nb:  75 loss:  tensor([51.4757])\n",
      "epoch nb:  80 loss:  tensor([49.9287])\n",
      "epoch nb:  85 loss:  tensor([48.5049])\n",
      "epoch nb:  90 loss:  tensor([47.1793])\n",
      "epoch nb:  95 loss:  tensor([45.9365])\n",
      "epoch nb:  100 loss:  tensor([44.7748])\n",
      "epoch nb:  105 loss:  tensor([43.7016])\n",
      "epoch nb:  110 loss:  tensor([42.7227])\n",
      "epoch nb:  115 loss:  tensor([41.8316])\n",
      "epoch nb:  120 loss:  tensor([41.0133])\n",
      "epoch nb:  125 loss:  tensor([40.2536])\n",
      "epoch nb:  130 loss:  tensor([39.5427])\n",
      "epoch nb:  135 loss:  tensor([38.8746])\n",
      "epoch nb:  140 loss:  tensor([38.2458])\n",
      "epoch nb:  145 loss:  tensor([37.6536])\n"
     ]
    }
   ],
   "source": [
    "model.train(train_input, train_target, nb_epochs=150, batch_size=50, learning_rate=0.0005, loss=loss)"
   ]
  },
  {
   "cell_type": "code",
   "execution_count": 5,
   "id": "172f04e7",
   "metadata": {},
   "outputs": [
    {
     "name": "stdout",
     "output_type": "stream",
     "text": [
      "Accuracy on the data set is:  0.758\n",
      "Accuracy on the data set is:  0.762\n"
     ]
    },
    {
     "data": {
      "text/plain": [
       "0.762"
      ]
     },
     "execution_count": 5,
     "metadata": {},
     "output_type": "execute_result"
    }
   ],
   "source": [
    "model.compute_nb_errors(train_input, train_target)\n",
    "model.compute_nb_errors(test_input, test_target)"
   ]
  },
  {
   "cell_type": "code",
   "execution_count": 22,
   "id": "e5c80442",
   "metadata": {},
   "outputs": [],
   "source": [
    "import torch\n",
    "import math\n",
    "from torch import nn\n",
    "\n",
    "torch.set_grad_enabled(True) \n",
    "\n",
    "model_torch = torch.nn.Sequential(nn.Linear(2, 25), \n",
    "                              nn.Tanh(), \n",
    "                              nn.Linear(25, 25), \n",
    "                              nn.Tanh(),\n",
    "                              nn.Linear(25, 25), \n",
    "                              nn.Tanh(),\n",
    "                              nn.Linear(25, 1))\n",
    "\n",
    "with torch.no_grad():\n",
    "    for p in model_torch.parameters(): \n",
    "        #print('yahoo')\n",
    "        #p.normal_(mean = 0, std = 1)\n",
    "        \n",
    "        dist = 1. / math.sqrt(25)\n",
    "        p.uniform_(-dist, dist)\n",
    "        #self.weights = torch.empty(dim_out, dim_in).uniform_(-dist, dist)\n",
    "        #self.bias = torch.empty(dim_out).uniform_(-dist, dist)"
   ]
  },
  {
   "cell_type": "code",
   "execution_count": 23,
   "id": "b4ab0cd0",
   "metadata": {},
   "outputs": [],
   "source": [
    "def train(model, train_input, train_target, nb_epochs, batch_size, learning_rate, criterion=None):\n",
    "    nb_samples = train_input.size(0)\n",
    "    if train_input.size(0)%batch_size !=0:\n",
    "        print(\"Batch size should divid length of training data.\")\n",
    "    for e in range(nb_epochs):\n",
    "        loss_acc=0\n",
    "        for b in range(0, nb_samples, batch_size):\n",
    "            for i in range(batch_size):\n",
    "                output = model.forward(train_input[b+i])[0]\n",
    "                loss = criterion(output, train_target[b+i])\n",
    "                loss_acc = loss_acc + loss.item()\n",
    "            model.zero_grad()\n",
    "            loss.backward()\n",
    "            with torch.no_grad():\n",
    "                for p in model.parameters():\n",
    "                    p -= learning_rate * p.grad\n",
    "        if e%5 == 0:\n",
    "            print('epoch nb: ', e, 'loss: ', loss_acc)\n",
    "\n",
    "def compute_nb_errors(model, data_input, data_target, batch_size=1):\n",
    "    tot_right = 0\n",
    "\n",
    "    for b in range(0, data_input.size(0), batch_size):\n",
    "        for i in range(batch_size):\n",
    "            output = model(data_input[b+i])\n",
    "            if output <0.0 and  data_target[b+i]==0: #this is specific to the toy dataset.\n",
    "                tot_right+=1\n",
    "            elif output >=0.0 and  data_target[b+i]==1:\n",
    "                tot_right+=1\n",
    "\n",
    "    print(\"Accuracy on the data set is: \", tot_right/data_input.size(0))\n",
    "    return tot_right/data_input.size(0)"
   ]
  },
  {
   "cell_type": "code",
   "execution_count": 24,
   "id": "79ecef23",
   "metadata": {},
   "outputs": [
    {
     "name": "stdout",
     "output_type": "stream",
     "text": [
      "epoch nb:  0 loss:  508.7120053907769\n",
      "epoch nb:  5 loss:  425.96650588011835\n",
      "epoch nb:  10 loss:  368.76044107973576\n",
      "epoch nb:  15 loss:  329.4614775143564\n",
      "epoch nb:  20 loss:  302.70986783877015\n",
      "epoch nb:  25 loss:  284.6933008655906\n",
      "epoch nb:  30 loss:  272.69929188489914\n",
      "epoch nb:  35 loss:  264.8118669837713\n",
      "epoch nb:  40 loss:  259.69250524044037\n",
      "epoch nb:  45 loss:  256.41771183907986\n",
      "epoch nb:  50 loss:  254.35850177705288\n",
      "epoch nb:  55 loss:  253.09171868860722\n",
      "epoch nb:  60 loss:  252.33594851195812\n",
      "epoch nb:  65 loss:  251.90609242022038\n",
      "epoch nb:  70 loss:  251.6817117035389\n",
      "epoch nb:  75 loss:  251.58523784577847\n",
      "epoch nb:  80 loss:  251.56724989414215\n",
      "epoch nb:  85 loss:  251.59663957357407\n",
      "epoch nb:  90 loss:  251.6540762335062\n",
      "epoch nb:  95 loss:  251.7277503311634\n",
      "epoch nb:  100 loss:  251.81059500575066\n",
      "epoch nb:  105 loss:  251.89849765598774\n",
      "epoch nb:  110 loss:  251.98916421830654\n",
      "epoch nb:  115 loss:  252.0813985168934\n",
      "epoch nb:  120 loss:  252.1746461391449\n",
      "epoch nb:  125 loss:  252.26872038841248\n",
      "epoch nb:  130 loss:  252.3636267632246\n",
      "epoch nb:  135 loss:  252.45946426689625\n",
      "epoch nb:  140 loss:  252.5563734471798\n",
      "epoch nb:  145 loss:  252.65449166297913\n",
      "epoch nb:  150 loss:  252.75394459068775\n",
      "epoch nb:  155 loss:  252.8548372387886\n",
      "epoch nb:  160 loss:  252.95724493265152\n",
      "epoch nb:  165 loss:  253.06122997403145\n",
      "epoch nb:  170 loss:  253.16681936383247\n",
      "epoch nb:  175 loss:  253.27404221892357\n",
      "epoch nb:  180 loss:  253.3828921020031\n",
      "epoch nb:  185 loss:  253.4933606237173\n",
      "epoch nb:  190 loss:  253.6054262369871\n",
      "epoch nb:  195 loss:  253.71904836595058\n",
      "epoch nb:  200 loss:  253.8341997563839\n",
      "epoch nb:  205 loss:  253.95081946253777\n",
      "epoch nb:  210 loss:  254.06886549293995\n",
      "epoch nb:  215 loss:  254.18828031420708\n",
      "epoch nb:  220 loss:  254.3090106099844\n",
      "epoch nb:  225 loss:  254.43098977208138\n",
      "epoch nb:  230 loss:  254.5541632026434\n",
      "epoch nb:  235 loss:  254.67845945060253\n",
      "epoch nb:  240 loss:  254.80381682515144\n",
      "epoch nb:  245 loss:  254.93016919493675\n"
     ]
    }
   ],
   "source": [
    "train(model_torch, train_input, train_target, nb_epochs=250, batch_size=50, learning_rate=0.0005, criterion = nn.MSELoss())"
   ]
  },
  {
   "cell_type": "code",
   "execution_count": 25,
   "id": "556bb61b",
   "metadata": {},
   "outputs": [
    {
     "name": "stdout",
     "output_type": "stream",
     "text": [
      "Accuracy on the data set is:  0.483\n",
      "Accuracy on the data set is:  0.518\n"
     ]
    },
    {
     "data": {
      "text/plain": [
       "0.518"
      ]
     },
     "execution_count": 25,
     "metadata": {},
     "output_type": "execute_result"
    }
   ],
   "source": [
    "compute_nb_errors(model_torch, train_input, train_target)\n",
    "compute_nb_errors(model_torch, test_input, test_target)"
   ]
  },
  {
   "cell_type": "code",
   "execution_count": 7,
   "id": "d21bbe50",
   "metadata": {},
   "outputs": [],
   "source": [
    "#############################\n",
    "#############################\n",
    "#############################\n",
    "#############################\n",
    "#############################"
   ]
  },
  {
   "cell_type": "code",
   "execution_count": 18,
   "id": "54f29b23",
   "metadata": {},
   "outputs": [
    {
     "name": "stdout",
     "output_type": "stream",
     "text": [
      "epoch nb:  0 loss:  tensor([296.7399])\n",
      "epoch nb:  5 loss:  tensor([252.8259])\n",
      "epoch nb:  10 loss:  tensor([251.1049])\n",
      "epoch nb:  15 loss:  tensor([249.9750])\n",
      "epoch nb:  20 loss:  tensor([248.9857])\n",
      "epoch nb:  25 loss:  tensor([247.9324])\n",
      "epoch nb:  30 loss:  tensor([246.6447])\n",
      "epoch nb:  35 loss:  tensor([244.9047])\n",
      "epoch nb:  40 loss:  tensor([242.3646])\n",
      "epoch nb:  45 loss:  tensor([238.4200])\n",
      "epoch nb:  50 loss:  tensor([232.0292])\n",
      "epoch nb:  55 loss:  tensor([221.6655])\n",
      "epoch nb:  60 loss:  tensor([206.3883])\n",
      "epoch nb:  65 loss:  tensor([189.1692])\n",
      "epoch nb:  70 loss:  tensor([176.8733])\n",
      "epoch nb:  75 loss:  tensor([171.2079])\n",
      "epoch nb:  80 loss:  tensor([168.7868])\n",
      "epoch nb:  85 loss:  tensor([167.4163])\n",
      "epoch nb:  90 loss:  tensor([166.3062])\n",
      "epoch nb:  95 loss:  tensor([165.1538])\n",
      "epoch nb:  100 loss:  tensor([163.7706])\n",
      "epoch nb:  105 loss:  tensor([161.9319])\n",
      "epoch nb:  110 loss:  tensor([159.2716])\n",
      "epoch nb:  115 loss:  tensor([155.1434])\n",
      "epoch nb:  120 loss:  tensor([148.3601])\n",
      "epoch nb:  125 loss:  tensor([136.7733])\n",
      "epoch nb:  130 loss:  tensor([117.3516])\n",
      "epoch nb:  135 loss:  tensor([92.4108])\n",
      "epoch nb:  140 loss:  tensor([79.1143])\n",
      "epoch nb:  145 loss:  tensor([76.8219])\n",
      "epoch nb:  150 loss:  tensor([76.2122])\n",
      "epoch nb:  155 loss:  tensor([75.7822])\n",
      "epoch nb:  160 loss:  tensor([75.4152])\n",
      "epoch nb:  165 loss:  tensor([75.0841])\n",
      "epoch nb:  170 loss:  tensor([74.7742])\n",
      "epoch nb:  175 loss:  tensor([74.4769])\n",
      "epoch nb:  180 loss:  tensor([74.1863])\n",
      "epoch nb:  185 loss:  tensor([73.8989])\n",
      "epoch nb:  190 loss:  tensor([73.6126])\n",
      "epoch nb:  195 loss:  tensor([73.3258])\n",
      "epoch nb:  200 loss:  tensor([73.0379])\n",
      "epoch nb:  205 loss:  tensor([72.7484])\n",
      "epoch nb:  210 loss:  tensor([72.4572])\n",
      "epoch nb:  215 loss:  tensor([72.1644])\n",
      "epoch nb:  220 loss:  tensor([71.8704])\n",
      "epoch nb:  225 loss:  tensor([71.5753])\n",
      "epoch nb:  230 loss:  tensor([71.2799])\n",
      "epoch nb:  235 loss:  tensor([70.9848])\n",
      "epoch nb:  240 loss:  tensor([70.6905])\n",
      "epoch nb:  245 loss:  tensor([70.3978])\n",
      "epoch nb:  250 loss:  tensor([70.1073])\n",
      "epoch nb:  255 loss:  tensor([69.8198])\n",
      "epoch nb:  260 loss:  tensor([69.5359])\n",
      "epoch nb:  265 loss:  tensor([69.2565])\n",
      "epoch nb:  270 loss:  tensor([68.9823])\n",
      "epoch nb:  275 loss:  tensor([68.7138])\n",
      "epoch nb:  280 loss:  tensor([68.4518])\n",
      "epoch nb:  285 loss:  tensor([68.1965])\n",
      "epoch nb:  290 loss:  tensor([67.9485])\n",
      "epoch nb:  295 loss:  tensor([67.7082])\n",
      "epoch nb:  300 loss:  tensor([67.4757])\n",
      "epoch nb:  305 loss:  tensor([67.2514])\n",
      "epoch nb:  310 loss:  tensor([67.0351])\n",
      "epoch nb:  315 loss:  tensor([66.8271])\n",
      "epoch nb:  320 loss:  tensor([66.6268])\n",
      "epoch nb:  325 loss:  tensor([66.4342])\n",
      "epoch nb:  330 loss:  tensor([66.2491])\n",
      "epoch nb:  335 loss:  tensor([66.0709])\n",
      "epoch nb:  340 loss:  tensor([65.8992])\n",
      "epoch nb:  345 loss:  tensor([65.7335])\n",
      "epoch nb:  350 loss:  tensor([65.5733])\n",
      "epoch nb:  355 loss:  tensor([65.4180])\n",
      "epoch nb:  360 loss:  tensor([65.2669])\n",
      "epoch nb:  365 loss:  tensor([65.1193])\n",
      "epoch nb:  370 loss:  tensor([64.9748])\n",
      "epoch nb:  375 loss:  tensor([64.8326])\n",
      "epoch nb:  380 loss:  tensor([64.6920])\n",
      "epoch nb:  385 loss:  tensor([64.5523])\n",
      "epoch nb:  390 loss:  tensor([64.4130])\n",
      "epoch nb:  395 loss:  tensor([64.2734])\n",
      "epoch nb:  400 loss:  tensor([64.1327])\n",
      "epoch nb:  405 loss:  tensor([63.9905])\n",
      "epoch nb:  410 loss:  tensor([63.8460])\n",
      "epoch nb:  415 loss:  tensor([63.6987])\n",
      "epoch nb:  420 loss:  tensor([63.5479])\n",
      "epoch nb:  425 loss:  tensor([63.3929])\n",
      "epoch nb:  430 loss:  tensor([63.2332])\n",
      "epoch nb:  435 loss:  tensor([63.0681])\n",
      "epoch nb:  440 loss:  tensor([62.8969])\n",
      "epoch nb:  445 loss:  tensor([62.7191])\n",
      "epoch nb:  450 loss:  tensor([62.5339])\n",
      "epoch nb:  455 loss:  tensor([62.3405])\n",
      "epoch nb:  460 loss:  tensor([62.1383])\n",
      "epoch nb:  465 loss:  tensor([61.9265])\n",
      "epoch nb:  470 loss:  tensor([61.7041])\n",
      "epoch nb:  475 loss:  tensor([61.4707])\n",
      "epoch nb:  480 loss:  tensor([61.2250])\n",
      "epoch nb:  485 loss:  tensor([60.9661])\n",
      "epoch nb:  490 loss:  tensor([60.6933])\n",
      "epoch nb:  495 loss:  tensor([60.4053])\n"
     ]
    }
   ],
   "source": [
    "# define the model\n",
    "model = framework.Sequential((framework.Linear(2, 5), \n",
    "                              framework.Tanh(), \n",
    "                              framework.Linear(5, 5), \n",
    "                              framework.Tanh(),\n",
    "                              framework.Linear(5, 5), \n",
    "                              framework.Tanh(),\n",
    "                              framework.Linear(5, 5), \n",
    "                              framework.Tanh(),\n",
    "                              framework.Linear(5, 1)))\n",
    "\n",
    "loss = framework.MSE()\n",
    "\n",
    "# train it\n",
    "model.train(train_input, train_target, nb_epochs=500, batch_size=50, learning_rate=0.0005, loss=loss)"
   ]
  },
  {
   "cell_type": "code",
   "execution_count": 19,
   "id": "790c0893",
   "metadata": {},
   "outputs": [
    {
     "name": "stdout",
     "output_type": "stream",
     "text": [
      "Accuracy on the data set is:  0.705\n",
      "Accuracy on the data set is:  0.697\n"
     ]
    },
    {
     "data": {
      "text/plain": [
       "0.697"
      ]
     },
     "execution_count": 19,
     "metadata": {},
     "output_type": "execute_result"
    }
   ],
   "source": [
    "model.compute_nb_errors(train_input, train_target, batch_size=1)\n",
    "model.compute_nb_errors(test_input, test_target, batch_size=1)"
   ]
  }
 ],
 "metadata": {
  "kernelspec": {
   "display_name": "Python 3",
   "language": "python",
   "name": "python3"
  },
  "language_info": {
   "codemirror_mode": {
    "name": "ipython",
    "version": 3
   },
   "file_extension": ".py",
   "mimetype": "text/x-python",
   "name": "python",
   "nbconvert_exporter": "python",
   "pygments_lexer": "ipython3",
   "version": "3.9.4"
  }
 },
 "nbformat": 4,
 "nbformat_minor": 5
}
